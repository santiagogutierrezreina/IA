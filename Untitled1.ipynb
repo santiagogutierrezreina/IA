{
  "nbformat": 4,
  "nbformat_minor": 0,
  "metadata": {
    "colab": {
      "provenance": [],
      "authorship_tag": "ABX9TyMCCWadazRHSnq+QVCma4Sv",
      "include_colab_link": true
    },
    "kernelspec": {
      "name": "python3",
      "display_name": "Python 3"
    },
    "language_info": {
      "name": "python"
    }
  },
  "cells": [
    {
      "cell_type": "markdown",
      "metadata": {
        "id": "view-in-github",
        "colab_type": "text"
      },
      "source": [
        "<a href=\"https://colab.research.google.com/github/santiagogutierrezreina/IA/blob/main/Untitled1.ipynb\" target=\"_parent\"><img src=\"https://colab.research.google.com/assets/colab-badge.svg\" alt=\"Open In Colab\"/></a>"
      ]
    },
    {
      "cell_type": "code",
      "execution_count": null,
      "metadata": {
        "id": "1zmE1IdKqAZr"
      },
      "outputs": [],
      "source": [
        "#Importar librerias\n",
        "import tensorflow as tf\n",
        "import numpy as np"
      ]
    },
    {
      "cell_type": "code",
      "source": [
        "celsius = np.array([-40, -10, 0, 8, 15, 22, 38], dtype=float) #Creamos un arreglo de entradas con valores de grados Cº, de tipo float\n",
        "fahrenheit = np.array([-40, 14, 32, 46, 59, 72, 100], dtype=float) #Creamos un arreglo de salidas con valores de grados Fº, de tipo float"
      ],
      "metadata": {
        "id": "vhvnTTc5qcVr"
      },
      "execution_count": null,
      "outputs": []
    },
    {
      "cell_type": "code",
      "source": [
        "#Creamos las capas con keras\n",
        "#Definimos con la siguiente linea, para crear las capas y que se conecte cada neurona de cada capa a todas las demas (conexion densa)\n",
        "#Definimos la cantidad de neuronas en unit, input_shape define la entrada de igual forma con 1 neurona\n",
        "#capa = tf.keras.layers.Dense(units=1, input_shape=[1])\n",
        "\n",
        "#Definimos el modelo para trabajar con las capas\n",
        "#modelo =  tf.keras.Sequential([capa])\n",
        "\n",
        "\n",
        "#Para este caso, crearemos 2 capas ocultas, con 3 neuronas c/u\n",
        "oculta1 = tf.keras.layers.Dense(units=3, input_shape=[1]) #Recibe la entrada de datos de 1 sola neurona\n",
        "oculta2 = tf.keras.layers.Dense(units=3) #Recibe la capa oculta1\n",
        "salida = tf.keras.layers.Dense(units=1) #Obtiene la salida, con 1 sola neurona\n",
        "modelo = tf.keras.Sequential([oculta1, oculta2, salida])\n",
        "\n"
      ],
      "metadata": {
        "colab": {
          "base_uri": "https://localhost:8080/"
        },
        "id": "atqd652-rJMI",
        "outputId": "44ce6c68-2232-4e0a-d583-acdf202d866b"
      },
      "execution_count": null,
      "outputs": [
        {
          "output_type": "stream",
          "name": "stderr",
          "text": [
            "/usr/local/lib/python3.11/dist-packages/keras/src/layers/core/dense.py:87: UserWarning: Do not pass an `input_shape`/`input_dim` argument to a layer. When using Sequential models, prefer using an `Input(shape)` object as the first layer in the model instead.\n",
            "  super().__init__(activity_regularizer=activity_regularizer, **kwargs)\n"
          ]
        }
      ]
    },
    {
      "cell_type": "code",
      "source": [
        "#Compilamos el modelo\n",
        "modelo.compile(\n",
        "    optimizer = tf.keras.optimizers.Adam(0.1), #Se emplea el optimizador Adam, learning_rate = 0.1\n",
        "    loss = 'mean_squared_error' #Funcion de riesgo\n",
        ")"
      ],
      "metadata": {
        "id": "h4Y23oZTsoDB"
      },
      "execution_count": null,
      "outputs": []
    },
    {
      "cell_type": "code",
      "source": [
        "#Entrenamiento\n",
        "print(\"Comenzando entrenamiento...\")\n",
        "historial = modelo.fit(celsius, fahrenheit, epochs = 1000, verbose = False) #indica con fit, la entrada y salida y la cantidad de veces que se realiza y optimiza el modelo una y otra vez\n",
        "print(\"Modelo entrenado!\")"
      ],
      "metadata": {
        "colab": {
          "base_uri": "https://localhost:8080/"
        },
        "id": "2dXkrBxCtnSw",
        "outputId": "1e04f70a-9771-4540-b199-f43ca43a4c28"
      },
      "execution_count": null,
      "outputs": [
        {
          "output_type": "stream",
          "name": "stdout",
          "text": [
            "Comenzando entrenamiento...\n",
            "Modelo entrenado!\n"
          ]
        }
      ]
    },
    {
      "cell_type": "code",
      "source": [
        "#Observa el resultado de la funcion de perdida (loss)\n",
        "import matplotlib.pyplot as plt\n",
        "\n",
        "plt.xlabel(\"# Epoca\")\n",
        "plt.ylabel(\"Magnitud de perdida\")\n",
        "plt.plot(historial.history[\"loss\"])\n",
        "\n",
        "#Al compilar, se observa que no son necesarias 1000 vueltas, pues alrededor de las 500, el margen de error es mininimo y  su mejora es poco notable\n",
        "#Para el caso 2, se observa que a partir de la vuelta 50 ya no aprende casi nada el modelo, y no es necesario sobrecargar el fit"
      ],
      "metadata": {
        "colab": {
          "base_uri": "https://localhost:8080/",
          "height": 466
        },
        "id": "j7i0nCJZuzjz",
        "outputId": "31e69b26-bc73-4edf-bd47-644e7cfd9565"
      },
      "execution_count": null,
      "outputs": [
        {
          "output_type": "execute_result",
          "data": {
            "text/plain": [
              "[<matplotlib.lines.Line2D at 0x784896199650>]"
            ]
          },
          "metadata": {},
          "execution_count": 29
        },
        {
          "output_type": "display_data",
          "data": {
            "text/plain": [
              "<Figure size 640x480 with 1 Axes>"
            ],
            "image/png": "[encoded data removed]"
          },
          "metadata": {}
        }
      ]
    },
    {
      "cell_type": "code",
      "source": [
        "#Realizamos una prediccion con 100 Cº\n",
        "#Lo que hace aqui es convertir a un array 2d con una sola fila y una sola columna, que es lo que espera recibir el metodo 'predict'.\n",
        "\n",
        "print('Realizando una prediccion.')\n",
        "input_data = np.array([[100.0]])\n",
        "resultado = modelo.predict(input_data)\n",
        "print('El resultado es: '+ str(resultado) + ' fahrenheit')"
      ],
      "metadata": {
        "colab": {
          "base_uri": "https://localhost:8080/"
        },
        "id": "hDRvd3HTviV9",
        "outputId": "14f260ee-8313-4622-df96-7a688a6c3765"
      },
      "execution_count": null,
      "outputs": [
        {
          "output_type": "stream",
          "name": "stdout",
          "text": [
            "Realizando una prediccion.\n",
            "\u001b[1m1/1\u001b[0m \u001b[32m━━━━━━━━━━━━━━━━━━━━\u001b[0m\u001b[37m\u001b[0m \u001b[1m0s\u001b[0m 67ms/step\n",
            "El resultado es: [[211.7474]] fahrenheit\n"
          ]
        }
      ]
    },
    {
      "cell_type": "code",
      "source": [
        "#Observamos el peso y sesgo obtenidos del modelo respectivamente\n",
        "print(\"Variables internas del modelo\")\n",
        "#print(capa.get_weights())\n",
        "\n",
        "#Imprimimos para el caso 2\n",
        "print(oculta1.get_weights())\n",
        "print(oculta2.get_weights())\n",
        "print(salida.get_weights())"
      ],
      "metadata": {
        "colab": {
          "base_uri": "https://localhost:8080/"
        },
        "id": "_yTcsPthxkFF",
        "outputId": "5948b320-dce5-4579-c459-c85bd3191769"
      },
      "execution_count": null,
      "outputs": [
        {
          "output_type": "stream",
          "name": "stdout",
          "text": [
            "Variables internas del modelo\n",
            "[array([[-0.11994727,  0.8135879 , -0.03062856]], dtype=float32), array([-3.0509665,  3.887412 ,  1.7090772], dtype=float32)]\n",
            "[array([[-0.7892027 , -0.84747803, -1.1566926 ],\n",
            "       [ 0.14670189, -0.1276719 ,  1.208438  ],\n",
            "       [ 0.7666948 ,  0.16899343,  1.0222037 ]], dtype=float32), array([3.1187687, 2.4059556, 3.7683926], dtype=float32)]\n",
            "[array([[0.770338  ],\n",
            "       [0.36608875],\n",
            "       [1.5164808 ]], dtype=float32), array([3.6553519], dtype=float32)]\n"
          ]
        }
      ]
    }
  ]
}